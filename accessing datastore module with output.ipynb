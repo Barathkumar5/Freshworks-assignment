{
 "cells": [
  {
   "cell_type": "code",
   "execution_count": 1,
   "metadata": {},
   "outputs": [],
   "source": [
    "import datastore as d\n",
    "import json # since the input should be in json object as per the requirement \n",
    "            #changing the dict into json object.If its already json object then we can pass directly without conversion#\n"
   ]
  },
  {
   "cell_type": "code",
   "execution_count": 2,
   "metadata": {},
   "outputs": [],
   "source": [
    "a ={\"name\":\"John\", \n",
    "   \"age\":31, \n",
    "    \"Salary\":25000,\n",
    "      } \n",
    "  \n",
    "# conversion to JSON done by dumps() function \n",
    "b = json.dumps(a) \n",
    "    \n",
    "d.create(\"key1\",b,20) # arguments are ( Key , value(json object) , timelimit in secs )"
   ]
  },
  {
   "cell_type": "code",
   "execution_count": 3,
   "metadata": {},
   "outputs": [
    {
     "name": "stdout",
     "output_type": "stream",
     "text": [
      "key1:{'name': 'John', 'age': 31, 'Salary': 25000}\n"
     ]
    }
   ],
   "source": [
    "d.read(\"key1\") # argument is key"
   ]
  },
  {
   "cell_type": "code",
   "execution_count": 4,
   "metadata": {},
   "outputs": [
    {
     "name": "stdout",
     "output_type": "stream",
     "text": [
      "key1:{'name': 'John', 'age': 31, 'Salary': 25000}\n"
     ]
    }
   ],
   "source": [
    "d.read(\"key1\") #After the time limit overs"
   ]
  },
  {
   "cell_type": "code",
   "execution_count": 5,
   "metadata": {},
   "outputs": [
    {
     "name": "stdout",
     "output_type": "stream",
     "text": [
      "key is successfully deleted\n"
     ]
    }
   ],
   "source": [
    "d.delete(\"key1\") #After the time limit overs"
   ]
  },
  {
   "cell_type": "code",
   "execution_count": 6,
   "metadata": {},
   "outputs": [],
   "source": [
    "d.create(\"key2\",b,15)"
   ]
  },
  {
   "cell_type": "code",
   "execution_count": 7,
   "metadata": {},
   "outputs": [
    {
     "name": "stdout",
     "output_type": "stream",
     "text": [
      "key is successfully deleted\n"
     ]
    }
   ],
   "source": [
    "d.delete(\"key2\") # argument is key"
   ]
  },
  {
   "cell_type": "code",
   "execution_count": 8,
   "metadata": {},
   "outputs": [],
   "source": [
    "t1=d.myThreadcreate(\"key5\",b,0) #Multiple Threads for create option can be done by using this myThreadcreate class"
   ]
  },
  {
   "cell_type": "code",
   "execution_count": 9,
   "metadata": {},
   "outputs": [],
   "source": [
    "t2=d.myThreadread(\"key5\") #Multiple Threads for read option can be done by using this myThreadread class"
   ]
  },
  {
   "cell_type": "code",
   "execution_count": 10,
   "metadata": {},
   "outputs": [],
   "source": [
    "t3=d.myThreaddelete(\"key5\") # Multiple Threads for delete option can be done by using this myThreaddelete class"
   ]
  },
  {
   "cell_type": "code",
   "execution_count": 11,
   "metadata": {},
   "outputs": [],
   "source": [
    "t1.start() #create using thread"
   ]
  },
  {
   "cell_type": "code",
   "execution_count": 12,
   "metadata": {},
   "outputs": [
    {
     "name": "stdout",
     "output_type": "stream",
     "text": [
      "key5:{'name': 'John', 'age': 31, 'Salary': 25000}\n"
     ]
    }
   ],
   "source": [
    "t2.start() #read using thread"
   ]
  },
  {
   "cell_type": "code",
   "execution_count": 13,
   "metadata": {},
   "outputs": [
    {
     "name": "stdout",
     "output_type": "stream",
     "text": [
      "key is successfully deleted\n"
     ]
    }
   ],
   "source": [
    "t3.start() #delete using thread"
   ]
  },
  {
   "cell_type": "code",
   "execution_count": 14,
   "metadata": {},
   "outputs": [
    {
     "name": "stdout",
     "output_type": "stream",
     "text": [
      "error: given key does not exist in database. Please enter a valid key\n"
     ]
    }
   ],
   "source": [
    "d.read(\"key5\") # checking whether it is deleted or not.(successfully deleted hence the below message)"
   ]
  },
  {
   "cell_type": "code",
   "execution_count": 15,
   "metadata": {},
   "outputs": [
    {
     "name": "stdout",
     "output_type": "stream",
     "text": [
      "The file is saved in the following location:C:\\Users\\Barath\\Pictures\\Video Projects\\datastorenew.txt\n"
     ]
    }
   ],
   "source": [
    "d.finishprocess() #This is used to save the file after the processing of datastore. "
   ]
  },
  {
   "cell_type": "code",
   "execution_count": 17,
   "metadata": {},
   "outputs": [
    {
     "data": {
      "text/plain": [
       "['__builtins__',\n",
       " '__cached__',\n",
       " '__doc__',\n",
       " '__file__',\n",
       " '__loader__',\n",
       " '__name__',\n",
       " '__package__',\n",
       " '__spec__',\n",
       " 'c',\n",
       " 'create',\n",
       " 'd',\n",
       " 'datastore',\n",
       " 'delete',\n",
       " 'finishprocess',\n",
       " 'json',\n",
       " 'myThreadcreate',\n",
       " 'myThreaddelete',\n",
       " 'myThreadread',\n",
       " 'os',\n",
       " 'r',\n",
       " 'read',\n",
       " 'threadLock',\n",
       " 'threading',\n",
       " 'time']"
      ]
     },
     "execution_count": 17,
     "metadata": {},
     "output_type": "execute_result"
    }
   ],
   "source": [
    "dir(d)"
   ]
  },
  {
   "cell_type": "code",
   "execution_count": null,
   "metadata": {},
   "outputs": [],
   "source": []
  }
 ],
 "metadata": {
  "kernelspec": {
   "display_name": "Python 3",
   "language": "python",
   "name": "python3"
  },
  "language_info": {
   "codemirror_mode": {
    "name": "ipython",
    "version": 3
   },
   "file_extension": ".py",
   "mimetype": "text/x-python",
   "name": "python",
   "nbconvert_exporter": "python",
   "pygments_lexer": "ipython3",
   "version": "3.7.4"
  }
 },
 "nbformat": 4,
 "nbformat_minor": 2
}
